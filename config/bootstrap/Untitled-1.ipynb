{
 "cells": [
  {
   "cell_type": "code",
   "execution_count": 1,
   "metadata": {},
   "outputs": [],
   "source": [
    "TENANT_ID = \"48d5043c-cf70-4c49-881c-c638f5796997\"\n",
    "CLIENT_ID = \"fab52bb5-9de2-4f9e-aefa-712da4b5fe00\"\n",
    "CDF_CLUSTER = \"westeurope-1\"\n",
    "COGNITE_PROJECT = \"ds-basics\"\n",
    "BASE_URL = f\"https://{CDF_CLUSTER}.cognitedata.com\""
   ]
  },
  {
   "cell_type": "code",
   "execution_count": null,
   "metadata": {},
   "outputs": [],
   "source": []
  }
 ],
 "metadata": {
  "kernelspec": {
   "display_name": "Python 3",
   "language": "python",
   "name": "python3"
  },
  "language_info": {
   "codemirror_mode": {
    "name": "ipython",
    "version": 3
   },
   "file_extension": ".py",
   "mimetype": "text/x-python",
   "name": "python",
   "nbconvert_exporter": "python",
   "pygments_lexer": "ipython3",
   "version": "3.12.2"
  }
 },
 "nbformat": 4,
 "nbformat_minor": 2
}
